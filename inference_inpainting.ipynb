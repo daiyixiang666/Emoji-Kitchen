{
 "cells": [
  {
   "cell_type": "code",
   "execution_count": null,
   "metadata": {},
   "outputs": [],
   "source": [
    "import torch\n",
    "from diffusers import AutoPipelineForInpainting\n",
    "from diffusers.utils import load_image, make_image_grid\n",
    "\n",
    "pipeline = AutoPipelineForInpainting.from_pretrained(\n",
    "    \"diffusers/stable-diffusion-xl-1.0-inpainting-0.1\", torch_dtype=torch.float16, variant=\"fp16\"\n",
    ")\n",
    "pipeline.enable_model_cpu_offload()\n",
    "init_image = load_image(\"emoji/shit/001.png\")\n",
    "mask_image = load_image(\"emoji/mask/mask_shit.png\")\n",
    "lora_path = \"lora-trained-xl_emoji_angry_dyxa\"\n",
    "pipeline.load_lora_weights(lora_path)\n",
    "generator = torch.Generator(\"cuda\").manual_seed(92)\n",
    "prompt = \"a shit like emoji with angry face emoji, high quality\"\n",
    "for i in range(10):\n",
    "    prompt = \"a baby_bottle like emoji with dyxa face emoji, high quality\"\n",
    "    image = pipeline(prompt=prompt, image=init_image, mask_image=mask_image, generator=generator).images[0]\n",
    "    #make_image_grid([init_image, mask_image, image], rows=1, cols=3)\n",
    "    image.save(f\"out{i}.png\")"
   ]
  }
 ],
 "metadata": {
  "kernelspec": {
   "display_name": "Python 3",
   "language": "python",
   "name": "python3"
  },
  "language_info": {
   "codemirror_mode": {
    "name": "ipython",
    "version": 3
   },
   "file_extension": ".py",
   "mimetype": "text/x-python",
   "name": "python",
   "nbconvert_exporter": "python",
   "pygments_lexer": "ipython3",
   "version": "3.9.18"
  },
  "orig_nbformat": 4,
  "vscode": {
   "interpreter": {
    "hash": "6134da816b9006f7cccb9b2bc66c70ce7b8d0ad67eca1f63c89772a9690ebdbd"
   }
  }
 },
 "nbformat": 4,
 "nbformat_minor": 2
}
